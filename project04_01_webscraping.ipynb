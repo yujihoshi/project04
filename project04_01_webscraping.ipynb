{
 "cells": [
  {
   "cell_type": "markdown",
   "metadata": {},
   "source": [
    "# ![](https://ga-dash.s3.amazonaws.com/production/assets/logo-9f88ae6c9c3871690e33280fcf557f33.png) Project 4: Web Scraping Job Postings\n",
    "\n",
    "## Business Case Overview\n",
    "\n",
    "You're working as a data scientist for a contracting firm that's rapidly expanding. Now that they have their most valuable employee (you!), they need to leverage data to win more contracts. Your firm offers technology and scientific solutions and wants to be competitive in the hiring market. Your principal has two main objectives:\n",
    "\n",
    "   1. Determine the industry factors that are most important in predicting the salary amounts for these data.\n",
    "   2. Determine the factors that distinguish job categories and titles from each other. For example, can required skills accurately predict job title?"
   ]
  },
  {
   "cell_type": "markdown",
   "metadata": {},
   "source": [
    "\n",
    "To limit the scope, your principal has suggested that you *focus on data-related job postings*, e.g. data scientist, data analyst, research scientist, business intelligence, and any others you might think of. You may also want to decrease the scope by *limiting your search to a single region.*\n",
    "\n",
    "Hint: Aggregators like [Indeed.com](https://www.indeed.com) regularly pool job postings from a variety of markets and industries. \n",
    "\n",
    "**Goal:** Scrape your own data from a job aggregation tool like Indeed.com in order to collect the data to best answer these two questions.\n",
    "\n",
    "---"
   ]
  },
  {
   "cell_type": "markdown",
   "metadata": {},
   "source": [
    "## Directions\n",
    "\n",
    "In this project you will be leveraging a variety of skills. The first will be to use the web-scraping and/or API techniques you've learned to collect data on data jobs from Indeed.com or another aggregator. Once you have collected and cleaned the data, you will use it to answer the two questions described above."
   ]
  },
  {
   "cell_type": "markdown",
   "metadata": {},
   "source": [
    "### QUESTION 1: Factors that impact salary\n",
    "\n",
    "To predict salary you will be building either a classification or regression model, using features like the location, title, and summary of the job. If framing this as a regression problem, you will be estimating the listed salary amounts. You may instead choose to frame this as a classification problem, in which case you will create labels from these salaries (high vs. low salary, for example) according to thresholds (such as median salary).\n",
    "\n",
    "You have learned a variety of new skills and models that may be useful for this problem:\n",
    "- NLP\n",
    "- Unsupervised learning and dimensionality reduction techniques (PCA, clustering)\n",
    "- Ensemble methods and decision tree models\n",
    "- SVM models\n",
    "\n",
    "Whatever you decide to use, the most important thing is to justify your choices and interpret your results. *Communication of your process is key.* Note that most listings **DO NOT** come with salary information. You'll need to able to extrapolate or predict the expected salaries for these listings.\n"
   ]
  },
  {
   "cell_type": "code",
   "execution_count": 1,
   "metadata": {},
   "outputs": [],
   "source": [
    "#Set up libraries and functions\n",
    "\n",
    "import os\n",
    "import time\n",
    "import requests\n",
    "import numpy as np\n",
    "import pandas as pd\n",
    "import re\n",
    "\n",
    "from selenium import webdriver\n",
    "from selenium.webdriver.common.action_chains import ActionChains\n",
    "from selenium.common.exceptions import NoSuchElementException        \n",
    "def check_exists_by_xpath(xpath):\n",
    "    try:\n",
    "        driver.find_element_by_xpath(xpath)\n",
    "    except NoSuchElementException:\n",
    "        return False\n",
    "    return True"
   ]
  },
  {
   "cell_type": "code",
   "execution_count": 11,
   "metadata": {},
   "outputs": [
    {
     "name": "stdout",
     "output_type": "stream",
     "text": [
      "data scientist 1\n",
      "data scientist 2\n",
      "data scientist 3\n",
      "data scientist 4\n",
      "data scientist 5\n",
      "data scientist 6\n",
      "data scientist 7\n",
      "Number of unique results: 122\n"
     ]
    }
   ],
   "source": [
    "#Load Chrome Driver and settings\n",
    "chromedriver = \"../chromedriver/chromedriver\"\n",
    "os.environ[\"webdriver.chrome.driver\"] = chromedriver\n",
    "\n",
    "chrome_options = webdriver.ChromeOptions()\n",
    "prefs = {\"profile.managed_default_content_settings.images\": 2}\n",
    "chrome_options.add_experimental_option(\"prefs\", prefs)\n",
    "chrome_options.add_argument(\"--disable-extensions\")\n",
    "driver = webdriver.Chrome(executable_path=\"./chromedriver/chromedriver\", options=chrome_options)\n",
    "\n",
    "#Shorter tests\n",
    "job_search = ['data scientist']\n",
    "#job_search = ['data scientist', 'data science']\n",
    "\n",
    "\n",
    "#Jobs to search for\n",
    "\"\"\"job_search = ['data scientist', 'data science', 'data analyst', 'data analytics',\\\n",
    "        'business analytics', 'financial analytics', 'marketing analytics', \\\n",
    "        'data visualisation', 'data operations', 'data strategist', \\\n",
    "        'data engineer', 'data architect', 'data manager', 'data mining','data intern', \\\n",
    "        'data lead', 'data consultant', 'machine learning', 'deep learning', \\\n",
    "        'big data', 'business intelligence']\"\"\"\n",
    "\n",
    "driver.get(\"https://www.mycareersfuture.sg/\")\n",
    "assert \"MyCareersFuture\" in driver.title\n",
    "\n",
    "#Get all the links for the jobs\n",
    "links = []\n",
    "for job in job_search:    \n",
    "    i=0\n",
    "    driver.get(\"https://www.mycareersfuture.sg/search?search=\"+\\\n",
    "                job+\\\n",
    "               \"&sortBy=new_posting_date\")\n",
    "    #Check whether links have appeared. Otherwise wait longer\n",
    "    while check_exists_by_xpath('//*[@id=\"search-results\"]/div[3]//a[@href]') == False:\n",
    "        time.sleep(max([np.random.normal(0.5,0.01),np.random.normal(0.4,0.1)]))\n",
    "\n",
    "    #Check to see if next page exists\n",
    "    while check_exists_by_xpath(\"//*[contains(text(), '❯')]\"):\n",
    "        #Close popup if it shows\n",
    "        if check_exists_by_xpath('//*[@id=\"snackbar\"]/div[1]/div/span'):\n",
    "            ActionChains(driver).click(driver.find_element_by_xpath('//*[@id=\"snackbar\"]/div[1]/div/span')).perform()\n",
    "            time.sleep(0.1)\n",
    "        #Get links\n",
    "        elems = driver.find_elements_by_xpath('//*[@id=\"search-results\"]/div[3]//a[@href]')\n",
    "        for elem in elems:\n",
    "            links.append(elem.get_attribute(\"href\"))\n",
    "        #Click next page\n",
    "        ActionChains(driver).click(driver.find_element_by_xpath(\"//*[contains(text(), '❯')]\")).perform()\n",
    "        #Keep track of pages\n",
    "        i += 1\n",
    "        time.sleep(max([np.random.normal(2,0.01),np.random.normal(3,0.2)]))\n",
    "        print(job,i)\n",
    "    #Repeat for last page for particular job search\n",
    "    #Close popup\n",
    "    if check_exists_by_xpath('//*[@id=\"snackbar\"]/div[1]/div/span'):\n",
    "        ActionChains(driver).click(driver.find_element_by_xpath('//*[@id=\"snackbar\"]/div[1]/div/span')).perform()\n",
    "        time.sleep(0.1)\n",
    "    #Get HTML of page\n",
    "    html = driver.page_source\n",
    "    elems = driver.find_elements_by_xpath('//*[@id=\"search-results\"]/div[3]//a[@href]')\n",
    "    for elem in elems:\n",
    "        links.append(elem.get_attribute(\"href\"))\n",
    "    #Keep track of how many pages have been checked    \n",
    "    print(job,i+1)\n",
    "#Remove duplicates\n",
    "links = list(dict.fromkeys(links))\n",
    "#Remove ads from links\n",
    "links = [x for x in links if not x.startswith('https://content.mycareersfuture.sg/')]\n",
    "print('Number of unique results: ' + str(len(links)))"
   ]
  },
  {
   "cell_type": "code",
   "execution_count": 12,
   "metadata": {},
   "outputs": [
    {
     "name": "stdout",
     "output_type": "stream",
     "text": [
      "50\n",
      "100\n"
     ]
    }
   ],
   "source": [
    "#Get Job Details for each link\n",
    "#chrome_options = webdriver.ChromeOptions()\n",
    "#prefs = {\"profile.managed_default_content_settings.images\": 2}\n",
    "#chrome_options.add_experimental_option(\"prefs\", prefs)\n",
    "#chrome_options.add_argument(\"--disable-extensions\")\n",
    "#driver = webdriver.Chrome(executable_path=\"./chromedriver/chromedriver\", options=chrome_options)\n",
    "\n",
    "driver.get('https://www.mycareersfuture.sg/')\n",
    "time.sleep(3)\n",
    "\n",
    "j=0\n",
    "jobs = []\n",
    "\n",
    "xpaths = [['//*[@id=\"job_details\"]/div[1]/div[2]/div[1]/section[1]/p', None],\\\n",
    "['//*[@id=\"job_title\"]', None],\\\n",
    "['//*[@id=\"address\"]', None],\\\n",
    "['//*[@id=\"employment_type\"]', None],\\\n",
    "['//*[@id=\"seniority\"]', None],\\\n",
    "['//*[@id=\"min_experience\"]', None],\\\n",
    "['//*[@id=\"job-categories\"]', None],\\\n",
    "['//*[@id=\"job_details\"]/div[1]/div[2]/div[1]/div/section[2]/div/span[2]/div/span[1]', None],\\\n",
    "['//*[@id=\"job_details\"]/div[1]/div[2]/div[1]/div/section[2]/div/span[2]/div/span[2]', None],\\\n",
    "['//*[@id=\"job_details\"]/div[1]/div[2]/div[1]/div/section[2]/div/span[3]', None],\\\n",
    "['//*[@id=\"description-content\"]', None],\\\n",
    "['//*[@id=\"requirements-content\"]', None],\\\n",
    "['//*[@id=\"skills-needed\"]/div/div', []]]\n",
    "\n",
    "for link in links:\n",
    "    driver.get(link)\n",
    "    j +=1\n",
    "    if j%50==0:\n",
    "        print(j)\n",
    "    #print(link) #Check URL\n",
    "    time.sleep(1)\n",
    "    \n",
    "    #Check to see if company name loaded. if so, record, if not, wait.\n",
    "    while check_exists_by_xpath(xpaths[0][0]) == False:\n",
    "        time.sleep(0.5)\n",
    "    xpaths[0][1] = driver.find_elements_by_xpath(xpaths[0][0])[0].text\n",
    "    \n",
    "    #Record all other values.\n",
    "    for i in range(1, 12):\n",
    "        if check_exists_by_xpath(xpaths[i][0]):\n",
    "            xpaths[i][1] = driver.find_elements_by_xpath(xpaths[i][0])[0].text\n",
    "        else: xpaths[i][1] = None\n",
    "    \n",
    "    #Record skills into list\n",
    "    if check_exists_by_xpath('//*[@id=\"skills-needed\"]/div/div'):\n",
    "        skills = []\n",
    "        for i in range(len(driver.find_elements_by_xpath('//*[@id=\"skills-needed\"]/div/div'))):\n",
    "            skills.append(driver.find_elements_by_xpath('//*[@id=\"skills-needed\"]/div/div')[i].text)\n",
    "        xpaths[12][1] = skills\n",
    "    #Create row of data\n",
    "    job = [link]\n",
    "    for i in range(13):\n",
    "        job.append(xpaths[i][1])\n",
    "    #Append jobs with job\n",
    "    jobs.append(job)\n",
    "driver.close()"
   ]
  },
  {
   "cell_type": "code",
   "execution_count": 13,
   "metadata": {},
   "outputs": [],
   "source": [
    "#Make into Dataframe and clean\n",
    "jobs = pd.DataFrame(jobs)\n",
    "jobs.columns = ['link','company', 'job_title', 'address', 'employment_type', 'seniority', 'min_experience',\\\n",
    "                'job_category', 'salary_low', 'salary_high', 'salary_time', 'role_description', 'job_requirements', 'skills']"
   ]
  },
  {
   "cell_type": "code",
   "execution_count": 14,
   "metadata": {},
   "outputs": [],
   "source": [
    "jobs.to_csv('out_test.csv', sep='\\t')"
   ]
  },
  {
   "cell_type": "code",
   "execution_count": 15,
   "metadata": {},
   "outputs": [],
   "source": [
    "jobs = pd.read_csv('out_test.csv', delimiter='\\t')\n",
    "jobs = jobs.drop(jobs.columns[[0]], axis=1)"
   ]
  }
 ],
 "metadata": {
  "kernelspec": {
   "display_name": "Python 3",
   "language": "python",
   "name": "python3"
  },
  "language_info": {
   "codemirror_mode": {
    "name": "ipython",
    "version": 3
   },
   "file_extension": ".py",
   "mimetype": "text/x-python",
   "name": "python",
   "nbconvert_exporter": "python",
   "pygments_lexer": "ipython3",
   "version": "3.6.8"
  }
 },
 "nbformat": 4,
 "nbformat_minor": 2
}
