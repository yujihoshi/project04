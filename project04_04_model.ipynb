{
 "cells": [
  {
   "cell_type": "code",
   "execution_count": 1,
   "metadata": {},
   "outputs": [],
   "source": [
    "import numpy as np\n",
    "import pandas as pd\n",
    "import re\n",
    "import seaborn as sns\n",
    "import matplotlib as plt\n",
    "from nltk.tokenize import word_tokenize\n",
    "from sklearn.model_selection import train_test_split, cross_val_score, cross_val_predict\n",
    "from sklearn.linear_model import LogisticRegression\n",
    "from sklearn.metrics import confusion_matrix, precision_score, recall_score, f1_score, roc_auc_score\n",
    "from sklearn.ensemble import RandomForestClassifier\n",
    "from sklearn.svm import SVC\n",
    "from sklearn.naive_bayes import GaussianNB, MultinomialNB\n",
    "from sklearn.preprocessing import StandardScaler\n",
    "\n",
    "#from sklearn import _______\n",
    "%matplotlib inline"
   ]
  },
  {
   "cell_type": "code",
   "execution_count": 2,
   "metadata": {},
   "outputs": [
    {
     "data": {
      "text/html": [
       "<div>\n",
       "<style scoped>\n",
       "    .dataframe tbody tr th:only-of-type {\n",
       "        vertical-align: middle;\n",
       "    }\n",
       "\n",
       "    .dataframe tbody tr th {\n",
       "        vertical-align: top;\n",
       "    }\n",
       "\n",
       "    .dataframe thead th {\n",
       "        text-align: right;\n",
       "    }\n",
       "</style>\n",
       "<table border=\"1\" class=\"dataframe\">\n",
       "  <thead>\n",
       "    <tr style=\"text-align: right;\">\n",
       "      <th></th>\n",
       "      <th>account manager</th>\n",
       "      <th>account manager it solutions</th>\n",
       "      <th>analyst</th>\n",
       "      <th>application developer</th>\n",
       "      <th>architect</th>\n",
       "      <th>assistant manager</th>\n",
       "      <th>assistant professor</th>\n",
       "      <th>big data</th>\n",
       "      <th>big data developer</th>\n",
       "      <th>big data engineer</th>\n",
       "      <th>...</th>\n",
       "      <th>working knowledge</th>\n",
       "      <th>written communication</th>\n",
       "      <th>written communication skills</th>\n",
       "      <th>written verbal</th>\n",
       "      <th>years experience</th>\n",
       "      <th>years relevant</th>\n",
       "      <th>years relevant experience</th>\n",
       "      <th>years working</th>\n",
       "      <th>years working experience</th>\n",
       "      <th>high_low</th>\n",
       "    </tr>\n",
       "  </thead>\n",
       "  <tbody>\n",
       "    <tr>\n",
       "      <th>0</th>\n",
       "      <td>0</td>\n",
       "      <td>0</td>\n",
       "      <td>0</td>\n",
       "      <td>0</td>\n",
       "      <td>0</td>\n",
       "      <td>0</td>\n",
       "      <td>0</td>\n",
       "      <td>0</td>\n",
       "      <td>0</td>\n",
       "      <td>0</td>\n",
       "      <td>...</td>\n",
       "      <td>0.0</td>\n",
       "      <td>0.0</td>\n",
       "      <td>0.0</td>\n",
       "      <td>0.000000</td>\n",
       "      <td>0.00000</td>\n",
       "      <td>0.0</td>\n",
       "      <td>0.0</td>\n",
       "      <td>0.00000</td>\n",
       "      <td>0.000000</td>\n",
       "      <td>False</td>\n",
       "    </tr>\n",
       "    <tr>\n",
       "      <th>1</th>\n",
       "      <td>0</td>\n",
       "      <td>0</td>\n",
       "      <td>0</td>\n",
       "      <td>0</td>\n",
       "      <td>0</td>\n",
       "      <td>0</td>\n",
       "      <td>0</td>\n",
       "      <td>0</td>\n",
       "      <td>0</td>\n",
       "      <td>0</td>\n",
       "      <td>...</td>\n",
       "      <td>0.0</td>\n",
       "      <td>0.0</td>\n",
       "      <td>0.0</td>\n",
       "      <td>0.000000</td>\n",
       "      <td>0.00000</td>\n",
       "      <td>0.0</td>\n",
       "      <td>0.0</td>\n",
       "      <td>0.21871</td>\n",
       "      <td>0.233659</td>\n",
       "      <td>False</td>\n",
       "    </tr>\n",
       "    <tr>\n",
       "      <th>2</th>\n",
       "      <td>0</td>\n",
       "      <td>0</td>\n",
       "      <td>0</td>\n",
       "      <td>0</td>\n",
       "      <td>0</td>\n",
       "      <td>0</td>\n",
       "      <td>0</td>\n",
       "      <td>0</td>\n",
       "      <td>0</td>\n",
       "      <td>0</td>\n",
       "      <td>...</td>\n",
       "      <td>0.0</td>\n",
       "      <td>0.0</td>\n",
       "      <td>0.0</td>\n",
       "      <td>0.000000</td>\n",
       "      <td>0.00000</td>\n",
       "      <td>0.0</td>\n",
       "      <td>0.0</td>\n",
       "      <td>0.21871</td>\n",
       "      <td>0.233659</td>\n",
       "      <td>True</td>\n",
       "    </tr>\n",
       "    <tr>\n",
       "      <th>3</th>\n",
       "      <td>0</td>\n",
       "      <td>0</td>\n",
       "      <td>0</td>\n",
       "      <td>0</td>\n",
       "      <td>0</td>\n",
       "      <td>0</td>\n",
       "      <td>0</td>\n",
       "      <td>0</td>\n",
       "      <td>0</td>\n",
       "      <td>0</td>\n",
       "      <td>...</td>\n",
       "      <td>0.0</td>\n",
       "      <td>0.0</td>\n",
       "      <td>0.0</td>\n",
       "      <td>0.000000</td>\n",
       "      <td>0.20651</td>\n",
       "      <td>0.0</td>\n",
       "      <td>0.0</td>\n",
       "      <td>0.00000</td>\n",
       "      <td>0.000000</td>\n",
       "      <td>False</td>\n",
       "    </tr>\n",
       "    <tr>\n",
       "      <th>4</th>\n",
       "      <td>0</td>\n",
       "      <td>0</td>\n",
       "      <td>0</td>\n",
       "      <td>0</td>\n",
       "      <td>0</td>\n",
       "      <td>0</td>\n",
       "      <td>0</td>\n",
       "      <td>0</td>\n",
       "      <td>0</td>\n",
       "      <td>0</td>\n",
       "      <td>...</td>\n",
       "      <td>0.0</td>\n",
       "      <td>0.0</td>\n",
       "      <td>0.0</td>\n",
       "      <td>0.121946</td>\n",
       "      <td>0.00000</td>\n",
       "      <td>0.0</td>\n",
       "      <td>0.0</td>\n",
       "      <td>0.00000</td>\n",
       "      <td>0.000000</td>\n",
       "      <td>False</td>\n",
       "    </tr>\n",
       "  </tbody>\n",
       "</table>\n",
       "<p>5 rows × 890 columns</p>\n",
       "</div>"
      ],
      "text/plain": [
       "   account manager  account manager it solutions  analyst  \\\n",
       "0                0                             0        0   \n",
       "1                0                             0        0   \n",
       "2                0                             0        0   \n",
       "3                0                             0        0   \n",
       "4                0                             0        0   \n",
       "\n",
       "   application developer  architect  assistant manager  assistant professor  \\\n",
       "0                      0          0                  0                    0   \n",
       "1                      0          0                  0                    0   \n",
       "2                      0          0                  0                    0   \n",
       "3                      0          0                  0                    0   \n",
       "4                      0          0                  0                    0   \n",
       "\n",
       "   big data  big data developer  big data engineer  ...  working knowledge  \\\n",
       "0         0                   0                  0  ...                0.0   \n",
       "1         0                   0                  0  ...                0.0   \n",
       "2         0                   0                  0  ...                0.0   \n",
       "3         0                   0                  0  ...                0.0   \n",
       "4         0                   0                  0  ...                0.0   \n",
       "\n",
       "   written communication  written communication skills  written verbal  \\\n",
       "0                    0.0                           0.0        0.000000   \n",
       "1                    0.0                           0.0        0.000000   \n",
       "2                    0.0                           0.0        0.000000   \n",
       "3                    0.0                           0.0        0.000000   \n",
       "4                    0.0                           0.0        0.121946   \n",
       "\n",
       "   years experience  years relevant  years relevant experience  years working  \\\n",
       "0           0.00000             0.0                        0.0        0.00000   \n",
       "1           0.00000             0.0                        0.0        0.21871   \n",
       "2           0.00000             0.0                        0.0        0.21871   \n",
       "3           0.20651             0.0                        0.0        0.00000   \n",
       "4           0.00000             0.0                        0.0        0.00000   \n",
       "\n",
       "   years working experience  high_low  \n",
       "0                  0.000000     False  \n",
       "1                  0.233659     False  \n",
       "2                  0.233659      True  \n",
       "3                  0.000000     False  \n",
       "4                  0.000000     False  \n",
       "\n",
       "[5 rows x 890 columns]"
      ]
     },
     "execution_count": 2,
     "metadata": {},
     "output_type": "execute_result"
    }
   ],
   "source": [
    "jobs = pd.read_csv('out3.csv', delimiter='\\t')\n",
    "jobs = jobs.drop(jobs.columns[[0]], axis=1)\n",
    "\n",
    "jobs['high_low'] = jobs.salary_mid.apply(lambda x: x>6500)\n",
    "#jobs['intercept'] = 1\n",
    "#\n",
    "jobs = jobs.drop(columns = ['min_experience'], axis=1)\n",
    "\n",
    "jobs = jobs.drop(columns = ['link','company', 'address', 'district'], axis=1)\n",
    "#Similar to target variable\n",
    "jobs = jobs.drop(columns = ['salary_low','salary_mid', 'salary_high', 'salary_time', ], axis=1)\n",
    "#Created dummies for these\n",
    "jobs = jobs.drop(columns = ['job_title', 'employment_type', 'job_category', 'seniority', 'skills'], axis=1)\n",
    "jobs.head()"
   ]
  },
  {
   "cell_type": "code",
   "execution_count": 3,
   "metadata": {},
   "outputs": [
    {
     "data": {
      "text/plain": [
       "(1110, 890)"
      ]
     },
     "execution_count": 3,
     "metadata": {},
     "output_type": "execute_result"
    }
   ],
   "source": [
    "jobs.shape"
   ]
  },
  {
   "cell_type": "code",
   "execution_count": 4,
   "metadata": {},
   "outputs": [],
   "source": [
    "y = jobs.high_low\n",
    "X = jobs.drop(columns = 'high_low')"
   ]
  },
  {
   "cell_type": "code",
   "execution_count": 5,
   "metadata": {},
   "outputs": [
    {
     "name": "stdout",
     "output_type": "stream",
     "text": [
      "0.509009009009009\n"
     ]
    }
   ],
   "source": [
    "#Baseline is 0.509 with just over half of salary_mid being under $6500 a month\n",
    "baseline = max(1-sum(y)/len(y), sum(y)/len(y))\n",
    "print(baseline)"
   ]
  },
  {
   "cell_type": "code",
   "execution_count": 6,
   "metadata": {},
   "outputs": [],
   "source": [
    "X_train, X_test, y_train, y_test = train_test_split(X, y, test_size=0.2, random_state=42)"
   ]
  },
  {
   "cell_type": "code",
   "execution_count": 7,
   "metadata": {},
   "outputs": [
    {
     "data": {
      "text/plain": [
       "array([0.79372197, 0.8018018 , 0.71171171, 0.81900452])"
      ]
     },
     "execution_count": 7,
     "metadata": {},
     "output_type": "execute_result"
    }
   ],
   "source": [
    "lr = LogisticRegression(solver='newton-cg').fit(X_train, y_train)\n",
    "cross_val_score(lr, X_train, y_train, cv=4, scoring=\"accuracy\")"
   ]
  },
  {
   "cell_type": "code",
   "execution_count": 8,
   "metadata": {},
   "outputs": [
    {
     "name": "stdout",
     "output_type": "stream",
     "text": [
      "confusion matrix\n",
      " [[357 100]\n",
      " [ 94 337]]\n",
      "precision score 0.7711670480549199\n",
      "recall score 0.7819025522041764\n",
      "f1 score 0.7764976958525346\n",
      "aoc score 0.7815420857300969\n"
     ]
    }
   ],
   "source": [
    "y_train_pred = cross_val_predict(lr, X_train, y_train, cv=4)\n",
    "print('confusion matrix\\n', confusion_matrix(y_train, y_train_pred))\n",
    "print('precision score', precision_score(y_train, y_train_pred))\n",
    "print('recall score', recall_score(y_train, y_train_pred))\n",
    "print('f1 score', f1_score(y_train, y_train_pred))\n",
    "print('aoc score', roc_auc_score(y_train, y_train_pred))"
   ]
  },
  {
   "cell_type": "code",
   "execution_count": 9,
   "metadata": {},
   "outputs": [
    {
     "name": "stdout",
     "output_type": "stream",
     "text": [
      "confusion matrix\n",
      " [[76 32]\n",
      " [34 80]]\n",
      "precision score 0.7142857142857143\n",
      "recall score 0.7017543859649122\n",
      "f1 score 0.7079646017699114\n",
      "aoc score 0.702729044834308\n"
     ]
    }
   ],
   "source": [
    "y_test_pred = cross_val_predict(lr, X_test, y_test, cv=4)\n",
    "print('confusion matrix\\n', confusion_matrix(y_test, y_test_pred))\n",
    "print('precision score', precision_score(y_test, y_test_pred))\n",
    "print('recall score', recall_score(y_test, y_test_pred))\n",
    "print('f1 score', f1_score(y_test, y_test_pred))\n",
    "print('aoc score', roc_auc_score(y_test, y_test_pred))"
   ]
  },
  {
   "cell_type": "code",
   "execution_count": 10,
   "metadata": {},
   "outputs": [],
   "source": [
    "rnd_clf = RandomForestClassifier(n_estimators=400, max_leaf_nodes=100, n_jobs=-2)\n",
    "rnd_clf.fit(X_train, y_train)\n",
    "y_pred_rf = rnd_clf.predict(X_test)"
   ]
  },
  {
   "cell_type": "code",
   "execution_count": 11,
   "metadata": {},
   "outputs": [
    {
     "name": "stdout",
     "output_type": "stream",
     "text": [
      "confusion matrix\n",
      " [[84 24]\n",
      " [28 86]]\n",
      "precision score 0.7818181818181819\n",
      "recall score 0.7543859649122807\n",
      "f1 score 0.7678571428571429\n",
      "aoc score 0.7660818713450293\n"
     ]
    }
   ],
   "source": [
    "print('confusion matrix\\n', confusion_matrix(y_test, y_pred_rf))\n",
    "print('precision score', precision_score(y_test, y_pred_rf))\n",
    "print('recall score', recall_score(y_test, y_pred_rf))\n",
    "print('f1 score', f1_score(y_test, y_pred_rf))\n",
    "print('aoc score', roc_auc_score(y_test, y_pred_rf))"
   ]
  },
  {
   "cell_type": "code",
   "execution_count": 12,
   "metadata": {},
   "outputs": [
    {
     "data": {
      "text/html": [
       "<div>\n",
       "<style scoped>\n",
       "    .dataframe tbody tr th:only-of-type {\n",
       "        vertical-align: middle;\n",
       "    }\n",
       "\n",
       "    .dataframe tbody tr th {\n",
       "        vertical-align: top;\n",
       "    }\n",
       "\n",
       "    .dataframe thead th {\n",
       "        text-align: right;\n",
       "    }\n",
       "</style>\n",
       "<table border=\"1\" class=\"dataframe\">\n",
       "  <thead>\n",
       "    <tr style=\"text-align: right;\">\n",
       "      <th></th>\n",
       "      <th>0</th>\n",
       "    </tr>\n",
       "  </thead>\n",
       "  <tbody>\n",
       "    <tr>\n",
       "      <th>480</th>\n",
       "      <td>0.022533</td>\n",
       "    </tr>\n",
       "    <tr>\n",
       "      <th>884</th>\n",
       "      <td>0.017790</td>\n",
       "    </tr>\n",
       "    <tr>\n",
       "      <th>482</th>\n",
       "      <td>0.013002</td>\n",
       "    </tr>\n",
       "    <tr>\n",
       "      <th>689</th>\n",
       "      <td>0.012962</td>\n",
       "    </tr>\n",
       "    <tr>\n",
       "      <th>481</th>\n",
       "      <td>0.012118</td>\n",
       "    </tr>\n",
       "    <tr>\n",
       "      <th>594</th>\n",
       "      <td>0.012096</td>\n",
       "    </tr>\n",
       "    <tr>\n",
       "      <th>483</th>\n",
       "      <td>0.011787</td>\n",
       "    </tr>\n",
       "    <tr>\n",
       "      <th>719</th>\n",
       "      <td>0.010914</td>\n",
       "    </tr>\n",
       "  </tbody>\n",
       "</table>\n",
       "</div>"
      ],
      "text/plain": [
       "            0\n",
       "480  0.022533\n",
       "884  0.017790\n",
       "482  0.013002\n",
       "689  0.012962\n",
       "481  0.012118\n",
       "594  0.012096\n",
       "483  0.011787\n",
       "719  0.010914"
      ]
     },
     "execution_count": 12,
     "metadata": {},
     "output_type": "execute_result"
    }
   ],
   "source": [
    "best_feat = pd.DataFrame(rnd_clf.feature_importances_).sort_values(by=[0], ascending = False).head(8).index\n",
    "pd.DataFrame(rnd_clf.feature_importances_).sort_values(by=[0], ascending = False).head(8)"
   ]
  },
  {
   "cell_type": "code",
   "execution_count": 13,
   "metadata": {},
   "outputs": [
    {
     "data": {
      "text/plain": [
       "Index(['Executive', 'years experience', 'Junior Executive', '10 years',\n",
       "       'Fresh/entry level', 'Microsoft Office', 'Manager', 'computer science'],\n",
       "      dtype='object')"
      ]
     },
     "execution_count": 13,
     "metadata": {},
     "output_type": "execute_result"
    }
   ],
   "source": [
    "X_test.columns[best_feat]"
   ]
  },
  {
   "cell_type": "code",
   "execution_count": 14,
   "metadata": {},
   "outputs": [],
   "source": [
    "svmclf = SVC(kernel='linear')  \n",
    "svmclf.fit(X_train, y_train)\n",
    "y_pred_svm = svmclf.predict(X_test)"
   ]
  },
  {
   "cell_type": "code",
   "execution_count": 15,
   "metadata": {},
   "outputs": [
    {
     "name": "stdout",
     "output_type": "stream",
     "text": [
      "confusion matrix\n",
      " [[81 27]\n",
      " [27 87]]\n",
      "precision score 0.7631578947368421\n",
      "recall score 0.7631578947368421\n",
      "f1 score 0.7631578947368421\n",
      "aoc score 0.756578947368421\n"
     ]
    }
   ],
   "source": [
    "print('confusion matrix\\n', confusion_matrix(y_test, y_pred_svm))\n",
    "print('precision score', precision_score(y_test, y_pred_svm))\n",
    "print('recall score', recall_score(y_test, y_pred_svm))\n",
    "print('f1 score', f1_score(y_test, y_pred_svm))\n",
    "print('aoc score', roc_auc_score(y_test, y_pred_svm))"
   ]
  },
  {
   "cell_type": "code",
   "execution_count": 16,
   "metadata": {},
   "outputs": [],
   "source": [
    "mnvclf = MultinomialNB()  \n",
    "mnvclf.fit(X_train, y_train)\n",
    "y_pred_mnv = mnvclf.predict(X_test)"
   ]
  },
  {
   "cell_type": "code",
   "execution_count": 17,
   "metadata": {},
   "outputs": [
    {
     "name": "stdout",
     "output_type": "stream",
     "text": [
      "confusion matrix\n",
      " [[84 24]\n",
      " [39 75]]\n",
      "precision score 0.7575757575757576\n",
      "recall score 0.6578947368421053\n",
      "f1 score 0.704225352112676\n",
      "aoc score 0.7178362573099415\n"
     ]
    }
   ],
   "source": [
    "print('confusion matrix\\n', confusion_matrix(y_test, y_pred_mnv))\n",
    "print('precision score', precision_score(y_test, y_pred_mnv))\n",
    "print('recall score', recall_score(y_test, y_pred_mnv))\n",
    "print('f1 score', f1_score(y_test, y_pred_mnv))\n",
    "print('aoc score', roc_auc_score(y_test, y_pred_mnv))"
   ]
  },
  {
   "cell_type": "code",
   "execution_count": null,
   "metadata": {},
   "outputs": [],
   "source": []
  },
  {
   "cell_type": "code",
   "execution_count": null,
   "metadata": {},
   "outputs": [],
   "source": []
  }
 ],
 "metadata": {
  "kernelspec": {
   "display_name": "Python 3",
   "language": "python",
   "name": "python3"
  },
  "language_info": {
   "codemirror_mode": {
    "name": "ipython",
    "version": 3
   },
   "file_extension": ".py",
   "mimetype": "text/x-python",
   "name": "python",
   "nbconvert_exporter": "python",
   "pygments_lexer": "ipython3",
   "version": "3.6.8"
  }
 },
 "nbformat": 4,
 "nbformat_minor": 2
}
