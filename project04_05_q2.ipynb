{
 "cells": [
  {
   "cell_type": "markdown",
   "metadata": {},
   "source": [
    "### QUESTION 2: Factors that distinguish job category\n",
    "\n",
    "Using the job postings you scraped for part 1 (or potentially new job postings from a second round of scraping), identify features in the data related to job postings that can distinguish job titles from each other. There are a variety of interesting ways you can frame the target variable, for example:\n",
    "- What components of a job posting distinguish data scientists from other data jobs?\n",
    "- What features are important for distinguishing junior vs. senior positions?\n",
    "- Do the requirements for titles vary significantly with industry (e.g. healthcare vs. government)?\n",
    "\n",
    "You may end up making multiple classification models to tackle different questions. Be sure to clearly explain your hypotheses and framing, any feature engineering, and what your target variables are. The type of classification model you choose is up to you. Be sure to interpret your results and evaluate your models' performance."
   ]
  },
  {
   "cell_type": "code",
   "execution_count": 1,
   "metadata": {},
   "outputs": [],
   "source": [
    "#Define Data Scientists as job_titles containing data scientist or machine learning"
   ]
  },
  {
   "cell_type": "code",
   "execution_count": 2,
   "metadata": {},
   "outputs": [],
   "source": [
    "import numpy as np\n",
    "import pandas as pd\n",
    "import re\n",
    "import seaborn as sns\n",
    "import matplotlib as plt\n",
    "from nltk.tokenize import word_tokenize\n",
    "from sklearn.model_selection import train_test_split, cross_val_score, cross_val_predict\n",
    "from sklearn.linear_model import LogisticRegression\n",
    "from sklearn.metrics import confusion_matrix, precision_score, recall_score, f1_score, roc_auc_score\n",
    "from sklearn.ensemble import RandomForestClassifier\n",
    "from sklearn.svm import SVC\n",
    "from sklearn.naive_bayes import GaussianNB, MultinomialNB\n",
    "from sklearn.preprocessing import StandardScaler\n",
    "\n",
    "#from sklearn import _______\n",
    "%matplotlib inline"
   ]
  },
  {
   "cell_type": "code",
   "execution_count": 3,
   "metadata": {},
   "outputs": [],
   "source": [
    "jobs = pd.read_csv('out3.csv', delimiter='\\t')\n",
    "jobs = jobs.drop(jobs.columns[[0]], axis=1)\n"
   ]
  },
  {
   "cell_type": "code",
   "execution_count": 4,
   "metadata": {},
   "outputs": [
    {
     "name": "stderr",
     "output_type": "stream",
     "text": [
      "/Users/yujihoshi/anaconda3/lib/python3.6/site-packages/ipykernel_launcher.py:6: SettingWithCopyWarning: \n",
      "A value is trying to be set on a copy of a slice from a DataFrame\n",
      "\n",
      "See the caveats in the documentation: http://pandas.pydata.org/pandas-docs/stable/indexing.html#indexing-view-versus-copy\n",
      "  \n"
     ]
    }
   ],
   "source": [
    "jobs['data_scientist'] = 0\n",
    "test = ['data scientist', 'machine learning']\n",
    "for i in range(len(jobs)):\n",
    "    for j in range(len(test)):\n",
    "        if test[j] in jobs.job_title[i]:\n",
    "            jobs.data_scientist[i] = 1"
   ]
  },
  {
   "cell_type": "code",
   "execution_count": 5,
   "metadata": {},
   "outputs": [
    {
     "data": {
      "text/plain": [
       "<function list.index>"
      ]
     },
     "execution_count": 5,
     "metadata": {},
     "output_type": "execute_result"
    }
   ],
   "source": [
    "[jobs.job_title.apply(pd.Series).stack().value_counts()<3].index"
   ]
  },
  {
   "cell_type": "code",
   "execution_count": 6,
   "metadata": {},
   "outputs": [],
   "source": [
    "#drop job_title, and all job_title dummy columns\n",
    "job_title_dummies = jobs.job_title.apply(pd.Series).stack().value_counts()\\\n",
    "[jobs.job_title.apply(pd.Series).stack().value_counts()>2].index\n",
    "\n",
    "job_title_dummies2=[]\n",
    "for i in job_title_dummies:\n",
    "    if i in jobs.columns:\n",
    "        job_title_dummies2.append(i)"
   ]
  },
  {
   "cell_type": "code",
   "execution_count": 7,
   "metadata": {},
   "outputs": [
    {
     "data": {
      "text/html": [
       "<div>\n",
       "<style scoped>\n",
       "    .dataframe tbody tr th:only-of-type {\n",
       "        vertical-align: middle;\n",
       "    }\n",
       "\n",
       "    .dataframe tbody tr th {\n",
       "        vertical-align: top;\n",
       "    }\n",
       "\n",
       "    .dataframe thead th {\n",
       "        text-align: right;\n",
       "    }\n",
       "</style>\n",
       "<table border=\"1\" class=\"dataframe\">\n",
       "  <thead>\n",
       "    <tr style=\"text-align: right;\">\n",
       "      <th></th>\n",
       "      <th>salary_mid</th>\n",
       "      <th>101 DIGITAL PTE. LTD.</th>\n",
       "      <th>99 PTE. LTD.</th>\n",
       "      <th>A-STAR-EDUCATION HOLDINGS PTE. LTD.</th>\n",
       "      <th>ABEJA SINGAPORE PTE. LTD.</th>\n",
       "      <th>ABI RESOURCES &amp; SERVICES PTE. LTD.</th>\n",
       "      <th>ACCELA RECRUITMENT SERVICES PTE. LTD.</th>\n",
       "      <th>ACCENTURE PTE LTD</th>\n",
       "      <th>ACHIEVE CAREER CONSULTANT PTE LTD</th>\n",
       "      <th>ACRONIS ASIA RESEARCH AND DEVELOPMENT PTE. LTD.</th>\n",
       "      <th>...</th>\n",
       "      <th>working knowledge</th>\n",
       "      <th>written communication</th>\n",
       "      <th>written communication skills</th>\n",
       "      <th>written verbal</th>\n",
       "      <th>years experience</th>\n",
       "      <th>years relevant</th>\n",
       "      <th>years relevant experience</th>\n",
       "      <th>years working</th>\n",
       "      <th>years working experience</th>\n",
       "      <th>data_scientist</th>\n",
       "    </tr>\n",
       "  </thead>\n",
       "  <tbody>\n",
       "    <tr>\n",
       "      <th>0</th>\n",
       "      <td>5750.0</td>\n",
       "      <td>0</td>\n",
       "      <td>0</td>\n",
       "      <td>0</td>\n",
       "      <td>0</td>\n",
       "      <td>0</td>\n",
       "      <td>0</td>\n",
       "      <td>0</td>\n",
       "      <td>0</td>\n",
       "      <td>0</td>\n",
       "      <td>...</td>\n",
       "      <td>0.0</td>\n",
       "      <td>0.0</td>\n",
       "      <td>0.0</td>\n",
       "      <td>0.000000</td>\n",
       "      <td>0.00000</td>\n",
       "      <td>0.0</td>\n",
       "      <td>0.0</td>\n",
       "      <td>0.00000</td>\n",
       "      <td>0.000000</td>\n",
       "      <td>1</td>\n",
       "    </tr>\n",
       "    <tr>\n",
       "      <th>1</th>\n",
       "      <td>6400.0</td>\n",
       "      <td>0</td>\n",
       "      <td>0</td>\n",
       "      <td>0</td>\n",
       "      <td>0</td>\n",
       "      <td>0</td>\n",
       "      <td>0</td>\n",
       "      <td>0</td>\n",
       "      <td>0</td>\n",
       "      <td>0</td>\n",
       "      <td>...</td>\n",
       "      <td>0.0</td>\n",
       "      <td>0.0</td>\n",
       "      <td>0.0</td>\n",
       "      <td>0.000000</td>\n",
       "      <td>0.00000</td>\n",
       "      <td>0.0</td>\n",
       "      <td>0.0</td>\n",
       "      <td>0.21871</td>\n",
       "      <td>0.233659</td>\n",
       "      <td>1</td>\n",
       "    </tr>\n",
       "    <tr>\n",
       "      <th>2</th>\n",
       "      <td>11500.0</td>\n",
       "      <td>0</td>\n",
       "      <td>0</td>\n",
       "      <td>0</td>\n",
       "      <td>0</td>\n",
       "      <td>0</td>\n",
       "      <td>0</td>\n",
       "      <td>0</td>\n",
       "      <td>0</td>\n",
       "      <td>0</td>\n",
       "      <td>...</td>\n",
       "      <td>0.0</td>\n",
       "      <td>0.0</td>\n",
       "      <td>0.0</td>\n",
       "      <td>0.000000</td>\n",
       "      <td>0.00000</td>\n",
       "      <td>0.0</td>\n",
       "      <td>0.0</td>\n",
       "      <td>0.21871</td>\n",
       "      <td>0.233659</td>\n",
       "      <td>1</td>\n",
       "    </tr>\n",
       "    <tr>\n",
       "      <th>3</th>\n",
       "      <td>4000.0</td>\n",
       "      <td>0</td>\n",
       "      <td>0</td>\n",
       "      <td>0</td>\n",
       "      <td>0</td>\n",
       "      <td>0</td>\n",
       "      <td>0</td>\n",
       "      <td>0</td>\n",
       "      <td>0</td>\n",
       "      <td>0</td>\n",
       "      <td>...</td>\n",
       "      <td>0.0</td>\n",
       "      <td>0.0</td>\n",
       "      <td>0.0</td>\n",
       "      <td>0.000000</td>\n",
       "      <td>0.20651</td>\n",
       "      <td>0.0</td>\n",
       "      <td>0.0</td>\n",
       "      <td>0.00000</td>\n",
       "      <td>0.000000</td>\n",
       "      <td>0</td>\n",
       "    </tr>\n",
       "    <tr>\n",
       "      <th>4</th>\n",
       "      <td>3800.0</td>\n",
       "      <td>0</td>\n",
       "      <td>0</td>\n",
       "      <td>0</td>\n",
       "      <td>0</td>\n",
       "      <td>0</td>\n",
       "      <td>0</td>\n",
       "      <td>0</td>\n",
       "      <td>0</td>\n",
       "      <td>0</td>\n",
       "      <td>...</td>\n",
       "      <td>0.0</td>\n",
       "      <td>0.0</td>\n",
       "      <td>0.0</td>\n",
       "      <td>0.121946</td>\n",
       "      <td>0.00000</td>\n",
       "      <td>0.0</td>\n",
       "      <td>0.0</td>\n",
       "      <td>0.00000</td>\n",
       "      <td>0.000000</td>\n",
       "      <td>1</td>\n",
       "    </tr>\n",
       "  </tbody>\n",
       "</table>\n",
       "<p>5 rows × 821 columns</p>\n",
       "</div>"
      ],
      "text/plain": [
       "   salary_mid  101 DIGITAL PTE. LTD.  99 PTE. LTD.  \\\n",
       "0      5750.0                      0             0   \n",
       "1      6400.0                      0             0   \n",
       "2     11500.0                      0             0   \n",
       "3      4000.0                      0             0   \n",
       "4      3800.0                      0             0   \n",
       "\n",
       "   A-STAR-EDUCATION HOLDINGS PTE. LTD.  ABEJA SINGAPORE PTE. LTD.  \\\n",
       "0                                    0                          0   \n",
       "1                                    0                          0   \n",
       "2                                    0                          0   \n",
       "3                                    0                          0   \n",
       "4                                    0                          0   \n",
       "\n",
       "   ABI RESOURCES & SERVICES PTE. LTD.  ACCELA RECRUITMENT SERVICES PTE. LTD.  \\\n",
       "0                                   0                                      0   \n",
       "1                                   0                                      0   \n",
       "2                                   0                                      0   \n",
       "3                                   0                                      0   \n",
       "4                                   0                                      0   \n",
       "\n",
       "   ACCENTURE PTE LTD  ACHIEVE CAREER CONSULTANT PTE LTD  \\\n",
       "0                  0                                  0   \n",
       "1                  0                                  0   \n",
       "2                  0                                  0   \n",
       "3                  0                                  0   \n",
       "4                  0                                  0   \n",
       "\n",
       "   ACRONIS ASIA RESEARCH AND DEVELOPMENT PTE. LTD.  ...  working knowledge  \\\n",
       "0                                                0  ...                0.0   \n",
       "1                                                0  ...                0.0   \n",
       "2                                                0  ...                0.0   \n",
       "3                                                0  ...                0.0   \n",
       "4                                                0  ...                0.0   \n",
       "\n",
       "   written communication  written communication skills  written verbal  \\\n",
       "0                    0.0                           0.0        0.000000   \n",
       "1                    0.0                           0.0        0.000000   \n",
       "2                    0.0                           0.0        0.000000   \n",
       "3                    0.0                           0.0        0.000000   \n",
       "4                    0.0                           0.0        0.121946   \n",
       "\n",
       "   years experience  years relevant  years relevant experience  years working  \\\n",
       "0           0.00000             0.0                        0.0        0.00000   \n",
       "1           0.00000             0.0                        0.0        0.21871   \n",
       "2           0.00000             0.0                        0.0        0.21871   \n",
       "3           0.20651             0.0                        0.0        0.00000   \n",
       "4           0.00000             0.0                        0.0        0.00000   \n",
       "\n",
       "   years working experience  data_scientist  \n",
       "0                  0.000000               1  \n",
       "1                  0.233659               1  \n",
       "2                  0.233659               1  \n",
       "3                  0.000000               0  \n",
       "4                  0.000000               1  \n",
       "\n",
       "[5 rows x 821 columns]"
      ]
     },
     "execution_count": 7,
     "metadata": {},
     "output_type": "execute_result"
    }
   ],
   "source": [
    "#too many missing values, and difficult to impute\n",
    "jobs = jobs.drop(columns = ['min_experience'], axis=1)\n",
    "#Company dummies covers addres and district.\n",
    "jobs = jobs.drop(columns = ['link','company', 'address', 'district'], axis=1)\n",
    "#Similar to salary variables\n",
    "jobs = jobs.drop(columns = ['salary_low', 'salary_high', 'salary_time', ], axis=1)\n",
    "#Created dummies for these\n",
    "jobs = jobs.drop(columns = ['job_title', 'employment_type', 'job_category', 'seniority', 'skills'], axis=1)\n",
    "jobs = jobs = jobs.drop(columns = job_title_dummies2, axis=1)\n",
    "jobs.head()"
   ]
  },
  {
   "cell_type": "code",
   "execution_count": 8,
   "metadata": {},
   "outputs": [
    {
     "name": "stdout",
     "output_type": "stream",
     "text": [
      "0.9189189189189189\n"
     ]
    }
   ],
   "source": [
    "#shuffle then split target\n",
    "y_test=[0,0]\n",
    "\n",
    "#baseline should be around 0.915 from 1-sum(y)/len(y)\n",
    "\n",
    "#make sure baseline is between 0.9 and 0.93 so it is shuffled with enough distribution in test set.\n",
    "while sum(y_test)/len(y_test) < 0.07 or sum(y_test)/len(y_test) > 0.1:\n",
    "    jobs = jobs.sample(frac=1)\n",
    "    y = jobs.data_scientist\n",
    "    X = jobs.drop(columns = 'data_scientist')\n",
    "    X_train, X_test, y_train, y_test = train_test_split(X, y, test_size=0.2, random_state=42)\n",
    "baseline = max(1-sum(y_test)/len(y_test), sum(y_test)/len(y_test))\n",
    "print(baseline)"
   ]
  },
  {
   "cell_type": "code",
   "execution_count": 9,
   "metadata": {},
   "outputs": [
    {
     "data": {
      "text/plain": [
       "array([0.95495495, 0.93243243, 0.95045045, 0.94144144])"
      ]
     },
     "execution_count": 9,
     "metadata": {},
     "output_type": "execute_result"
    }
   ],
   "source": [
    "lr = LogisticRegression(solver='newton-cg').fit(X_train, y_train)\n",
    "cross_val_score(lr, X_train, y_train, cv=4, scoring=\"accuracy\")"
   ]
  },
  {
   "cell_type": "code",
   "execution_count": 10,
   "metadata": {},
   "outputs": [
    {
     "name": "stdout",
     "output_type": "stream",
     "text": [
      "confusion matrix\n",
      " [[806   6]\n",
      " [ 43  33]]\n",
      "precision score 0.8461538461538461\n",
      "recall score 0.4342105263157895\n",
      "f1 score 0.5739130434782609\n",
      "aoc score 0.7134106818771064\n"
     ]
    }
   ],
   "source": [
    "y_train_pred = cross_val_predict(lr, X_train, y_train, cv=4)\n",
    "print('confusion matrix\\n', confusion_matrix(y_train, y_train_pred))\n",
    "print('precision score', precision_score(y_train, y_train_pred))\n",
    "print('recall score', recall_score(y_train, y_train_pred))\n",
    "print('f1 score', f1_score(y_train, y_train_pred))\n",
    "print('aoc score', roc_auc_score(y_train, y_train_pred))"
   ]
  },
  {
   "cell_type": "code",
   "execution_count": 11,
   "metadata": {},
   "outputs": [
    {
     "name": "stdout",
     "output_type": "stream",
     "text": [
      "confusion matrix\n",
      " [[199   5]\n",
      " [ 16   2]]\n",
      "precision score 0.2857142857142857\n",
      "recall score 0.1111111111111111\n",
      "f1 score 0.16\n",
      "aoc score 0.5433006535947713\n"
     ]
    }
   ],
   "source": [
    "y_test_pred = cross_val_predict(lr, X_test, y_test, cv=4)\n",
    "print('confusion matrix\\n', confusion_matrix(y_test, y_test_pred))\n",
    "print('precision score', precision_score(y_test, y_test_pred))\n",
    "print('recall score', recall_score(y_test, y_test_pred))\n",
    "print('f1 score', f1_score(y_test, y_test_pred))\n",
    "print('aoc score', roc_auc_score(y_test, y_test_pred))"
   ]
  },
  {
   "cell_type": "code",
   "execution_count": 12,
   "metadata": {},
   "outputs": [],
   "source": [
    "rnd_clf = RandomForestClassifier(n_estimators=50, max_leaf_nodes=50, n_jobs=-2)\n",
    "rnd_clf.fit(X_train, y_train)\n",
    "y_pred_rf = rnd_clf.predict(X_test)"
   ]
  },
  {
   "cell_type": "code",
   "execution_count": 13,
   "metadata": {},
   "outputs": [
    {
     "name": "stdout",
     "output_type": "stream",
     "text": [
      "confusion matrix\n",
      " [[204   0]\n",
      " [  9   9]]\n",
      "precision score 1.0\n",
      "recall score 0.5\n",
      "f1 score 0.6666666666666666\n",
      "aoc score 0.75\n"
     ]
    }
   ],
   "source": [
    "print('confusion matrix\\n', confusion_matrix(y_test, y_pred_rf))\n",
    "print('precision score', precision_score(y_test, y_pred_rf))\n",
    "print('recall score', recall_score(y_test, y_pred_rf))\n",
    "print('f1 score', f1_score(y_test, y_pred_rf))\n",
    "print('aoc score', roc_auc_score(y_test, y_pred_rf))"
   ]
  },
  {
   "cell_type": "code",
   "execution_count": 14,
   "metadata": {},
   "outputs": [],
   "source": [
    "svmclf = SVC(kernel='linear')  \n",
    "svmclf.fit(X_train, y_train)\n",
    "y_pred_svm = svmclf.predict(X_test)"
   ]
  },
  {
   "cell_type": "code",
   "execution_count": 15,
   "metadata": {},
   "outputs": [
    {
     "name": "stdout",
     "output_type": "stream",
     "text": [
      "confusion matrix\n",
      " [[203   1]\n",
      " [ 18   0]]\n",
      "precision score 0.0\n",
      "recall score 0.0\n",
      "f1 score 0.0\n",
      "aoc score 0.49754901960784315\n"
     ]
    }
   ],
   "source": [
    "print('confusion matrix\\n', confusion_matrix(y_test, y_pred_svm))\n",
    "print('precision score', precision_score(y_test, y_pred_svm))\n",
    "print('recall score', recall_score(y_test, y_pred_svm))\n",
    "print('f1 score', f1_score(y_test, y_pred_svm))\n",
    "print('aoc score', roc_auc_score(y_test, y_pred_svm))"
   ]
  },
  {
   "cell_type": "code",
   "execution_count": 16,
   "metadata": {},
   "outputs": [],
   "source": [
    "mnvclf = MultinomialNB()  \n",
    "mnvclf.fit(X_train, y_train)\n",
    "y_pred_mnv = mnvclf.predict(X_test)"
   ]
  },
  {
   "cell_type": "code",
   "execution_count": 17,
   "metadata": {},
   "outputs": [
    {
     "name": "stdout",
     "output_type": "stream",
     "text": [
      "confusion matrix\n",
      " [[178  26]\n",
      " [ 15   3]]\n",
      "precision score 0.10344827586206896\n",
      "recall score 0.16666666666666666\n",
      "f1 score 0.1276595744680851\n",
      "aoc score 0.5196078431372549\n"
     ]
    }
   ],
   "source": [
    "print('confusion matrix\\n', confusion_matrix(y_test, y_pred_mnv))\n",
    "print('precision score', precision_score(y_test, y_pred_mnv))\n",
    "print('recall score', recall_score(y_test, y_pred_mnv))\n",
    "print('f1 score', f1_score(y_test, y_pred_mnv))\n",
    "print('aoc score', roc_auc_score(y_test, y_pred_mnv))"
   ]
  },
  {
   "cell_type": "code",
   "execution_count": null,
   "metadata": {},
   "outputs": [],
   "source": []
  },
  {
   "cell_type": "code",
   "execution_count": null,
   "metadata": {},
   "outputs": [],
   "source": []
  },
  {
   "cell_type": "code",
   "execution_count": null,
   "metadata": {},
   "outputs": [],
   "source": []
  },
  {
   "cell_type": "code",
   "execution_count": null,
   "metadata": {},
   "outputs": [],
   "source": []
  }
 ],
 "metadata": {
  "kernelspec": {
   "display_name": "Python 3",
   "language": "python",
   "name": "python3"
  },
  "language_info": {
   "codemirror_mode": {
    "name": "ipython",
    "version": 3
   },
   "file_extension": ".py",
   "mimetype": "text/x-python",
   "name": "python",
   "nbconvert_exporter": "python",
   "pygments_lexer": "ipython3",
   "version": "3.6.8"
  }
 },
 "nbformat": 4,
 "nbformat_minor": 2
}
